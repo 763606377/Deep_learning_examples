{
 "cells": [
  {
   "cell_type": "markdown",
   "metadata": {},
   "source": [
    "# Load data first"
   ]
  },
  {
   "cell_type": "code",
   "execution_count": 1,
   "metadata": {},
   "outputs": [
    {
     "name": "stderr",
     "output_type": "stream",
     "text": [
      "Using TensorFlow backend.\n"
     ]
    }
   ],
   "source": [
    "import cPickle\n",
    "import numpy as np\n",
    "import keras\n",
    "import tensorflow as tf\n",
    "from sklearn.model_selection import train_test_split\n",
    "from keras.datasets import mnist\n",
    "from keras.models import Sequential\n",
    "from keras.layers import Dense, Dropout\n",
    "from keras.optimizers import RMSprop"
   ]
  },
  {
   "cell_type": "code",
   "execution_count": 2,
   "metadata": {
    "collapsed": true,
    "scrolled": true
   },
   "outputs": [],
   "source": [
    "test_ratio = 0.1\n",
    "number_class = 2\n",
    "number_features = 16306\n",
    "batch_size = 1024\n",
    "epochs = 50"
   ]
  },
  {
   "cell_type": "code",
   "execution_count": 3,
   "metadata": {
    "collapsed": true
   },
   "outputs": [],
   "source": [
    "def Pfam_from_pickle_file_encoding(name_list_pickle_filename,model_names_list_filename):\n",
    "\twith open(name_list_pickle_filename,'r') as f:\n",
    "\t\tname_list=cPickle.load(f)\n",
    "\n",
    "\twith open(model_names_list_filename,'r') as f:\n",
    "\t\tmodel_list=cPickle.load(f)\n",
    "\n",
    "\tencoding=[]\n",
    "\tfor i in range(len(name_list)):\n",
    "\t\tif i%10000==0:\n",
    "\t\t\tprint('Processing %dth sequence.'%i)\n",
    "\t\tsingle_encoding=np.zeros(16306)\n",
    "\t\tif name_list[i] != []:\n",
    "\t\t\tfor single_name in name_list[i]:\n",
    "\t\t\t\tsingle_encoding[model_list.index(single_name)]=1\n",
    "\t\t# encoding.append(single_encoding.reshape([5000, 4]))\n",
    "\t\tencoding.append(single_encoding)\n",
    "\treturn encoding"
   ]
  },
  {
   "cell_type": "code",
   "execution_count": 4,
   "metadata": {},
   "outputs": [
    {
     "name": "stdout",
     "output_type": "stream",
     "text": [
      "Processing 0th sequence.\n",
      "Processing 10000th sequence.\n",
      "Processing 20000th sequence.\n",
      "Processing 0th sequence.\n",
      "Processing 10000th sequence.\n",
      "Processing 20000th sequence.\n"
     ]
    }
   ],
   "source": [
    "enzyme_feature=Pfam_from_pickle_file_encoding(\n",
    "    'Pfam_name_list_new_data.pickle',\n",
    "    'Pfam_model_names_list.pickle')\n",
    "non_enzyme_feature=Pfam_from_pickle_file_encoding(\n",
    "    'Pfam_name_list_non_enzyme.pickle',\n",
    "    'Pfam_model_names_list.pickle')\n",
    "feature = np.concatenate([enzyme_feature, non_enzyme_feature], axis=0)\n",
    "label = np.concatenate([np.ones([22168,1]), np.zeros([22168,1])], axis=0).flatten()\n",
    "label = tf.keras.utils.to_categorical(label,num_classes=2)"
   ]
  },
  {
   "cell_type": "code",
   "execution_count": 5,
   "metadata": {
    "collapsed": true
   },
   "outputs": [],
   "source": [
    "x_train, x_test, y_train, y_test = train_test_split(\n",
    "    feature, label, test_size=test_ratio, random_state=0)"
   ]
  },
  {
   "cell_type": "code",
   "execution_count": null,
   "metadata": {},
   "outputs": [
    {
     "name": "stdout",
     "output_type": "stream",
     "text": [
      "_________________________________________________________________\n",
      "Layer (type)                 Output Shape              Param #   \n",
      "=================================================================\n",
      "dense_1 (Dense)              (None, 1024)              16698368  \n",
      "_________________________________________________________________\n",
      "dropout_1 (Dropout)          (None, 1024)              0         \n",
      "_________________________________________________________________\n",
      "dense_2 (Dense)              (None, 1024)              1049600   \n",
      "_________________________________________________________________\n",
      "dropout_2 (Dropout)          (None, 1024)              0         \n",
      "_________________________________________________________________\n",
      "dense_3 (Dense)              (None, 2)                 2050      \n",
      "=================================================================\n",
      "Total params: 17,750,018\n",
      "Trainable params: 17,750,018\n",
      "Non-trainable params: 0\n",
      "_________________________________________________________________\n",
      "Train on 39902 samples, validate on 4434 samples\n",
      "Epoch 1/50\n",
      "39902/39902 [==============================] - 9s 232us/step - loss: 0.4076 - acc: 0.8252 - val_loss: 0.2237 - val_acc: 0.9213\n",
      "Epoch 2/50\n",
      "39902/39902 [==============================] - 8s 191us/step - loss: 0.1455 - acc: 0.9540 - val_loss: 0.1822 - val_acc: 0.9443\n",
      "Epoch 3/50\n",
      "39902/39902 [==============================] - 7s 185us/step - loss: 0.1090 - acc: 0.9658 - val_loss: 0.1856 - val_acc: 0.9436\n",
      "Epoch 4/50\n",
      "39902/39902 [==============================] - 7s 166us/step - loss: 0.0979 - acc: 0.9679 - val_loss: 0.1887 - val_acc: 0.9441\n",
      "Epoch 5/50\n",
      "39902/39902 [==============================] - 6s 162us/step - loss: 0.0912 - acc: 0.9693 - val_loss: 0.1952 - val_acc: 0.9452\n",
      "Epoch 6/50\n",
      "39902/39902 [==============================] - 7s 175us/step - loss: 0.0861 - acc: 0.9712 - val_loss: 0.2007 - val_acc: 0.9454\n",
      "Epoch 7/50\n",
      "39902/39902 [==============================] - 7s 178us/step - loss: 0.0845 - acc: 0.9715 - val_loss: 0.2042 - val_acc: 0.9425\n",
      "Epoch 8/50\n",
      "39902/39902 [==============================] - 7s 178us/step - loss: 0.0821 - acc: 0.9723 - val_loss: 0.2068 - val_acc: 0.9436\n",
      "Epoch 9/50\n",
      "39902/39902 [==============================] - 7s 164us/step - loss: 0.0810 - acc: 0.9721 - val_loss: 0.2098 - val_acc: 0.9429\n",
      "Epoch 10/50\n",
      "39902/39902 [==============================] - 6s 149us/step - loss: 0.0788 - acc: 0.9731 - val_loss: 0.2098 - val_acc: 0.9434\n",
      "Epoch 11/50\n",
      "39902/39902 [==============================] - 6s 156us/step - loss: 0.0782 - acc: 0.9733 - val_loss: 0.2208 - val_acc: 0.9416\n",
      "Epoch 12/50\n",
      "39902/39902 [==============================] - 7s 170us/step - loss: 0.0768 - acc: 0.9732 - val_loss: 0.2277 - val_acc: 0.9432\n",
      "Epoch 13/50\n",
      "39902/39902 [==============================] - 7s 174us/step - loss: 0.0765 - acc: 0.9738 - val_loss: 0.2270 - val_acc: 0.9418\n",
      "Epoch 14/50\n",
      "39902/39902 [==============================] - 7s 175us/step - loss: 0.0742 - acc: 0.9744 - val_loss: 0.2364 - val_acc: 0.9391\n",
      "Epoch 15/50\n",
      "16384/39902 [===========>..................] - ETA: 3s - loss: 0.0697 - acc: 0.9757"
     ]
    }
   ],
   "source": [
    "model = Sequential()\n",
    "model.add(Dense(1024, activation='relu', input_shape=(number_features,)))\n",
    "model.add(Dropout(0.3))\n",
    "model.add(Dense(1024, activation='relu'))\n",
    "model.add(Dropout(0.3))\n",
    "model.add(Dense(number_class, activation='softmax'))\n",
    "\n",
    "model.summary()\n",
    "\n",
    "model.compile(loss='categorical_crossentropy',\n",
    "              optimizer=keras.optimizers.adam(),\n",
    "              metrics=['accuracy'])\n",
    "\n",
    "history = model.fit(x_train, y_train,\n",
    "                    batch_size=batch_size,\n",
    "                    epochs=epochs,\n",
    "                    verbose=1,\n",
    "                    validation_data=(x_test, y_test))\n",
    "score = model.evaluate(x_test, y_test, verbose=0)\n",
    "print('Test loss:', score[0])\n",
    "print('Test accuracy:', score[1])"
   ]
  },
  {
   "cell_type": "code",
   "execution_count": null,
   "metadata": {
    "collapsed": true
   },
   "outputs": [],
   "source": []
  }
 ],
 "metadata": {
  "kernelspec": {
   "display_name": "Python 3",
   "language": "python",
   "name": "python3"
  },
  "language_info": {
   "codemirror_mode": {
    "name": "ipython",
    "version": 3
   },
   "file_extension": ".py",
   "mimetype": "text/x-python",
   "name": "python",
   "nbconvert_exporter": "python",
   "pygments_lexer": "ipython3",
   "version": "3.6.1"
  }
 },
 "nbformat": 4,
 "nbformat_minor": 2
}
